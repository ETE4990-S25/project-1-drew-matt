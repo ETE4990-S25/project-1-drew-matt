{
 "cells": [
  {
   "cell_type": "code",
   "execution_count": null,
   "metadata": {},
   "outputs": [],
   "source": [
    "from IPython.display import clear_output # Delete from main game\n",
    "def clear_screen():\n",
    "    # Clear the terminal (This was copied from ChatGPT)\n",
    "    os.system('cls' if os.name == 'nt' else 'clear')\n",
    "    \n",
    "\n",
    "# Display the Main Menu\n",
    "def display_main_menu():\n",
    "    print(\"Welcome to the Game!\")\n",
    "    print(\"(1) Start the game\")\n",
    "    print(\"(2) Options\")\n",
    "    print(\"(3) Quit Game\")\n",
    "\n",
    "# Begin the game\n",
    "def start_game():\n",
    "    print(\"Starting the Game . . .\")\n",
    "\n",
    "    print(\"Game Over! Press Enter to Return to Main Menu.\")\n",
    "    input(\"Press Enter to Continue\")\n",
    "\n",
    "# Enter Options Menu\n",
    "def display_options_menu():\n",
    "    print(\"Options Menu\")\n",
    "    print(\"(1) Change the Difficulty\")  \n",
    "    print(\"(2) Back to Main Menu\")    \n",
    "\n",
    "def display_option_difficulty():\n",
    "    print(\"Difficulty Options:\")\n",
    "    print(\"(1) Easy Mode\")\n",
    "    print(\"(2) Intermediate Mode\")\n",
    "    print(\"(3) Hardcore Mode\")\n",
    "    input(\"Select a Difficulty Option (Enter a Number 1-3)\")"
   ]
  }
 ],
 "metadata": {
  "language_info": {
   "name": "python"
  }
 },
 "nbformat": 4,
 "nbformat_minor": 2
}
