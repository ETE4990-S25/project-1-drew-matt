{
 "cells": [
  {
   "cell_type": "code",
   "execution_count": null,
   "id": "5c88add8-ace8-4764-9d61-a6ec306e9a1d",
   "metadata": {},
   "outputs": [],
   "source": [
    "class Character:\n",
    "    def __init__(self, name, health)\n",
    "        self.name = name\n",
    "        self.health = health\n",
    "        self.max_health = health\n",
    "\n",
    "    def attack(self, enemy)\n",
    "        enemy.health -= self.weapon.damage\n",
    "        enemy.health = max(enemy.health, 0)\n",
    "\n",
    "     def equip(self, weapon)\n",
    "        self.weapon = weapon\n",
    "        print(f\"{self.name} has equipped {self.weapon.name}\"\n",
    "        \n",
    "class Warrior(Character):\n",
    "    def __init__(self, name, health=100)\n",
    "        super().__init__(name=name, health=health)\n",
    "        \n",
    "    self.weapon = basic_sword\n",
    "\n",
    "class Mage(Character):\n",
    "    def __init__(self, name, health=75)\n",
    "        super().__init__(name=name, health=health)\n",
    "\n",
    "    self.weapon = basic_staff"
   ]
  }
 ],
 "metadata": {
  "kernelspec": {
   "display_name": "Python 3 (ipykernel)",
   "language": "python",
   "name": "python3"
  },
  "language_info": {
   "codemirror_mode": {
    "name": "ipython",
    "version": 3
   },
   "file_extension": ".py",
   "mimetype": "text/x-python",
   "name": "python",
   "nbconvert_exporter": "python",
   "pygments_lexer": "ipython3",
   "version": "3.13.2"
  }
 },
 "nbformat": 4,
 "nbformat_minor": 5
}
