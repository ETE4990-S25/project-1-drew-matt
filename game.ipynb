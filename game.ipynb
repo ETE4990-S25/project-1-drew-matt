{
 "cells": [
  {
   "cell_type": "code",
   "execution_count": null,
   "metadata": {},
   "outputs": [
    {
     "name": "stdout",
     "output_type": "stream",
     "text": [
      "Welcome to the Game!\n",
      "(1) Start the game\n",
      "(2) Options\n",
      "(3) Quit Game\n",
      "Thank You For Playing! Goodbye!\n"
     ]
    }
   ],
   "source": [
    "# Display the Main Menu\n",
    "def display_main_menu():\n",
    "    print(\"Welcome to the Game!\")\n",
    "    print(\"(1) Start the game\")\n",
    "    print(\"(2) Options\")\n",
    "    print(\"(3) Quit Game\")\n",
    "\n",
    "# Begin the game\n",
    "def start_game():\n",
    "    print(\"Starting the Game . . .\")\n",
    "\n",
    "    print(\"Game Over!\")\n",
    "\n",
    "# Enter Options Menu\n",
    "def display_options_menu():\n",
    "    print(\"Options Menu\")\n",
    "    print(\"(1) Back to Main Menu\")    \n",
    "\n",
    "def option_difficulty():\n",
    "    print(\"Change Difficulty\")\n",
    "\n",
    "def main():\n",
    "    playing = True\n",
    "    while playing:\n",
    "        display_main_menu()\n",
    "        choice = input(\"Please select an option (Enter a number 1 - 3): \")\n",
    "        \n",
    "        # Play the Game\n",
    "        if choice == '1':\n",
    "            start_game()\n",
    "        \n",
    "        # Open the Options Menu\n",
    "        elif choice == '2':\n",
    "            \n",
    "            options_open = True\n",
    "            while options_open:\n",
    "                option_choice = input(\"Select an Option.\")\n",
    "\n",
    "                if option_choice == '1':\n",
    "                    \n",
    "                elif option_choice == '2':\n",
    "\n",
    "\n",
    "\n",
    "        # Quit the Game\n",
    "        elif choice == '3':\n",
    "            print(\"Thank You For Playing! Goodbye!\")\n",
    "            playing = False\n",
    "\n",
    "\n",
    "\n",
    "\n",
    "if __name__ == \"__main__\":\n",
    "    main()"
   ]
  },
  {
   "cell_type": "code",
   "execution_count": null,
   "metadata": {},
   "outputs": [],
   "source": []
  }
 ],
 "metadata": {
  "kernelspec": {
   "display_name": "base",
   "language": "python",
   "name": "python3"
  },
  "language_info": {
   "codemirror_mode": {
    "name": "ipython",
    "version": 3
   },
   "file_extension": ".py",
   "mimetype": "text/x-python",
   "name": "python",
   "nbconvert_exporter": "python",
   "pygments_lexer": "ipython3",
   "version": "3.12.7"
  }
 },
 "nbformat": 4,
 "nbformat_minor": 2
}
