{
 "cells": [
  {
   "cell_type": "code",
   "execution_count": null,
   "metadata": {},
   "outputs": [
    {
     "name": "stdout",
     "output_type": "stream",
     "text": [
      "Thank You For Playing! Goodbye!\n"
     ]
    }
   ],
   "source": [
    "from IPython.display import clear_output # Delete from main game\n",
    "import os\n",
    "import menu \n",
    "\n",
    "def main():\n",
    "    playing = True\n",
    "    while playing:\n",
    "\n",
    "        menu.display_main_menu()\n",
    "        choice = input(\"Please Select One (Enter a number 1 - 3): \")\n",
    "        clear_output(wait=True)\n",
    "\n",
    "        # Play the Game\n",
    "        if choice == '1':\n",
    "            menu.start_game()\n",
    "            clear_output(wait=True)\n",
    "            \n",
    "        # Open the Options Menu\n",
    "        elif choice == '2':\n",
    "            options_open = True\n",
    "            \n",
    "            while options_open:\n",
    "                menu.display_options_menu()\n",
    "                option_choice = input(\"Select an Option (1 or 2)\")\n",
    "                clear_output(wait=True)\n",
    "                \n",
    "                if option_choice == '1':\n",
    "                    menu.display_option_difficulty()\n",
    "                    clear_output(wait=True)\n",
    "                elif option_choice == '2':\n",
    "                    print(\"Returning to Main Menu\")\n",
    "                    options_open = False\n",
    "                else:\n",
    "                    print(\"Invalid option, please try again.\")\n",
    "                    input(\"Press Enter to Continue...\")\n",
    "\n",
    "        # Quit the Game\n",
    "        elif choice == '3':\n",
    "\n",
    "            print(\"Thank You For Playing! Goodbye!\")\n",
    "            playing = False\n",
    "        \n",
    "        # Handle Numbers Outside of 1-3\n",
    "        else:\n",
    "            print(\"Invalid option, please try again.\")\n",
    "            input(\"Press Enter to Continue...\")\n",
    "\n",
    "\n",
    "\n",
    "\n",
    "if __name__ == \"__main__\":\n",
    "    main()\n",
    "    "
   ]
  },
  {
   "cell_type": "code",
   "execution_count": null,
   "metadata": {},
   "outputs": [],
   "source": []
  }
 ],
 "metadata": {
  "kernelspec": {
   "display_name": "base",
   "language": "python",
   "name": "python3"
  },
  "language_info": {
   "codemirror_mode": {
    "name": "ipython",
    "version": 3
   },
   "file_extension": ".py",
   "mimetype": "text/x-python",
   "name": "python",
   "nbconvert_exporter": "python",
   "pygments_lexer": "ipython3",
   "version": "3.12.7"
  }
 },
 "nbformat": 4,
 "nbformat_minor": 2
}
