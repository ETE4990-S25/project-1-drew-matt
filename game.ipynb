{
 "cells": [
  {
   "cell_type": "code",
   "execution_count": null,
   "metadata": {},
   "outputs": [],
   "source": [
    "# Display the Main Menu\n",
    "def display_main_menu():\n",
    "    print(\"Welcome to the Game!\")\n",
    "    print(\"(1) Start the game\")\n",
    "    print(\"(2) Options\")\n",
    "    print(\"(3) Quit Game\")\n",
    "\n",
    "# Begin the game\n",
    "def start_game():\n",
    "    print(\"Starting the Game . . .\")\n",
    "\n",
    "# Enter Options Menu\n",
    "def display_options_menu():\n",
    "    print(\"Options Menu\")\n",
    "    print(\"(1) Back to Main Menu\")    \n",
    "\n",
    "\n",
    "if __name__ == \"__main__\":\n",
    "    main()"
   ]
  }
 ],
 "metadata": {
  "language_info": {
   "name": "python"
  }
 },
 "nbformat": 4,
 "nbformat_minor": 2
}
